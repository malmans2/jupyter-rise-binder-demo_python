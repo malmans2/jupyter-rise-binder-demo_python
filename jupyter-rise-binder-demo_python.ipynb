{
 "cells": [
  {
   "cell_type": "markdown",
   "metadata": {
    "slideshow": {
     "slide_type": "slide"
    }
   },
   "source": [
    "## Introduction to Jupyter RISE slides and (my)Binder\n",
    "\n",
    "#### Tiffany A. Timbers, Ph.D.\n",
    "*Instructor, Dept of Statistics & Option Co-Director, Master of Data Science Program*\n",
    "\n",
    "tiffany.timbers@stat.ubc.ca\n",
    "\n",
    "[@TiffanyTimbers](https://twitter.com/TiffanyTimbers)"
   ]
  },
  {
   "cell_type": "markdown",
   "metadata": {
    "slideshow": {
     "slide_type": "slide"
    }
   },
   "source": [
    "## Technology challenges for teaching Data Science"
   ]
  },
  {
   "cell_type": "markdown",
   "metadata": {
    "slideshow": {
     "slide_type": "fragment"
    }
   },
   "source": [
    "1. You need to share code"
   ]
  },
  {
   "cell_type": "markdown",
   "metadata": {
    "slideshow": {
     "slide_type": "fragment"
    }
   },
   "source": [
    "2. You would like to demonstrate running code"
   ]
  },
  {
   "cell_type": "markdown",
   "metadata": {
    "slideshow": {
     "slide_type": "fragment"
    }
   },
   "source": [
    "3. You would like to intersperse code between concepts and motivation"
   ]
  },
  {
   "cell_type": "markdown",
   "metadata": {
    "slideshow": {
     "slide_type": "fragment"
    }
   },
   "source": [
    "4. You also would like to have nicely formatted equations"
   ]
  },
  {
   "cell_type": "markdown",
   "metadata": {
    "slideshow": {
     "slide_type": "fragment"
    }
   },
   "source": [
    "5. You would like to practice what you preach in regards to reproducibility"
   ]
  },
  {
   "cell_type": "markdown",
   "metadata": {
    "slideshow": {
     "slide_type": "slide"
    }
   },
   "source": [
    "## WYSWYG is not your friend here\n",
    "\n",
    "WYSWYG == what you see is what you get \n",
    "\n",
    "examples: PowerPoint, Keynote, Google slides\n",
    "\n",
    "<img src=\"https://media.giphy.com/media/SwL7d9E6ge2M8/giphy.gif\" align=\"left\">"
   ]
  },
  {
   "cell_type": "markdown",
   "metadata": {
    "slideshow": {
     "slide_type": "slide"
    }
   },
   "source": [
    "## But you have options!\n",
    "\n",
    "<img src=\"https://media.giphy.com/media/Y3l2CbTxVd6oC47Bq5/giphy.gif\" align=\"left\" width=\"400\">"
   ]
  },
  {
   "cell_type": "markdown",
   "metadata": {
    "slideshow": {
     "slide_type": "slide"
    }
   },
   "source": [
    "## The options..."
   ]
  },
  {
   "cell_type": "markdown",
   "metadata": {
    "slideshow": {
     "slide_type": "fragment"
    }
   },
   "source": [
    "- [LaTex Beamer slides](https://www.overleaf.com/learn/latex/Beamer_Presentations:_A_Tutorial_for_Beginners_(Part_1)%E2%80%94Getting_Started)"
   ]
  },
  {
   "cell_type": "markdown",
   "metadata": {
    "slideshow": {
     "slide_type": "fragment"
    }
   },
   "source": [
    "- R Markdown slides (e.g., [ioslides](https://garrettgman.github.io/rmarkdown/ioslides_presentation_format.html) or [Xaringan](https://slides.yihui.name/xaringan))"
   ]
  },
  {
   "cell_type": "markdown",
   "metadata": {
    "slideshow": {
     "slide_type": "fragment"
    }
   },
   "source": [
    "- [**Jupyter Rise slides**](https://rise.readthedocs.io/en/maint-5.5/)"
   ]
  },
  {
   "cell_type": "markdown",
   "metadata": {
    "slideshow": {
     "slide_type": "slide"
    }
   },
   "source": [
    "## [RISE](https://rise.readthedocs.io)\n",
    "\n",
    "[Reveal.js]((https://revealjs.com/#/)) - Jupyter/IPython Slideshow Extension\n",
    "\n",
    "With RISE, a Jupyter notebook extension, you can instantly turn your jupyter notebook into a live reveal.js-based presentation.\n",
    "\n",
    "![](https://rise.readthedocs.io/en/maint-5.5/_images/basic_usage.gif)"
   ]
  },
  {
   "cell_type": "markdown",
   "metadata": {
    "slideshow": {
     "slide_type": "slide"
    }
   },
   "source": [
    "## Installation\n",
    "\n",
    "Using conda:\n",
    "\n",
    "```conda install -c conda-forge rise```\n",
    "\n",
    "or using pip:\n",
    "\n",
    "```pip install RISE```"
   ]
  },
  {
   "cell_type": "markdown",
   "metadata": {
    "slideshow": {
     "slide_type": "slide"
    }
   },
   "source": [
    "## Shhhhhhhh, its a secret...\n",
    "\n",
    "...this presentation is a really just a Jupyter notebook that uses RISE. \n",
    "\n",
    "<img src=\"https://media.giphy.com/media/X7PmOX0W7k8IE/giphy.gif\" align=\"left\" width=\"500\">"
   ]
  },
  {
   "cell_type": "markdown",
   "metadata": {
    "slideshow": {
     "slide_type": "slide"
    }
   },
   "source": [
    "## Let's remove the curtain and examine the RISE Jupyter extension!"
   ]
  },
  {
   "cell_type": "markdown",
   "metadata": {
    "slideshow": {
     "slide_type": "slide"
    }
   },
   "source": [
    "### Linear Regression"
   ]
  },
  {
   "cell_type": "code",
   "execution_count": 1,
   "metadata": {
    "slideshow": {
     "slide_type": "skip"
    }
   },
   "outputs": [],
   "source": [
    "import numpy as np\n",
    "import pandas as pd\n",
    "import altair as alt\n",
    "alt.renderers.enable('notebook')\n",
    "prop_data = pd.read_csv(\"https://raw.githubusercontent.com/ttimbers/UBC-stat-sample-lesson/master/data/acs_data.csv\")"
   ]
  },
  {
   "cell_type": "code",
   "execution_count": 11,
   "metadata": {
    "slideshow": {
     "slide_type": "fragment"
    }
   },
   "outputs": [
    {
     "data": {
      "application/javascript": [
       "var spec = {\"config\": {\"view\": {\"width\": 400, \"height\": 300}, \"mark\": {\"tooltip\": null}}, \"layer\": [{\"data\": {\"name\": \"data-80ab14b4fc10d38793da97e2717b0a18\"}, \"mark\": \"point\", \"encoding\": {\"x\": {\"type\": \"quantitative\", \"axis\": {\"format\": \"$f\", \"title\": \"Median household income (USD)\"}, \"field\": \"income\"}, \"y\": {\"type\": \"quantitative\", \"axis\": {\"format\": \"$\", \"title\": \"Median property value (USD)\"}, \"field\": \"median_property_value\"}}}, {\"data\": {\"name\": \"data-59bc9f110706dc46a9aa415722d069df\"}, \"mark\": \"line\", \"encoding\": {\"x\": {\"type\": \"quantitative\", \"field\": \"xfit\"}, \"y\": {\"type\": \"quantitative\", \"field\": \"yfit\"}}}], \"$schema\": \"https://vega.github.io/schema/vega-lite/v3.2.1.json\", \"datasets\": {\"data-80ab14b4fc10d38793da97e2717b0a18\": [{\"display_name\": \"Texas\", \"income\": 53207.0, \"mean_commute_minutes\": 24.509, \"median_property_value\": 136000.0, \"non_eng_speakers_pct\": 0.350348, \"owner_occupied_housing_units\": 0.622325, \"pop\": 26538614, \"year\": 2015}, {\"display_name\": \"Pennsylvania\", \"income\": 53599.0, \"mean_commute_minutes\": 25.2695, \"median_property_value\": 166000.0, \"non_eng_speakers_pct\": 0.106482, \"owner_occupied_housing_units\": 0.692052, \"pop\": 12779559, \"year\": 2015}, {\"display_name\": \"South Carolina\", \"income\": 45483.0, \"mean_commute_minutes\": 23.0552, \"median_property_value\": 139900.0, \"non_eng_speakers_pct\": 0.0686766, \"owner_occupied_housing_units\": 0.685914, \"pop\": 4777576, \"year\": 2015}, {\"display_name\": \"New Hampshire\", \"income\": 66779.0, \"mean_commute_minutes\": 25.2973, \"median_property_value\": 237300.0, \"non_eng_speakers_pct\": 0.0786821, \"owner_occupied_housing_units\": 0.709609, \"pop\": 1324201, \"year\": 2015}, {\"display_name\": \"Kansas\", \"income\": 52205.0, \"mean_commute_minutes\": 18.2779, \"median_property_value\": 132000.0, \"non_eng_speakers_pct\": 0.113053, \"owner_occupied_housing_units\": 0.666891, \"pop\": 2892987, \"year\": 2015}, {\"display_name\": \"Hawaii\", \"income\": 69515.0, \"mean_commute_minutes\": 25.5813, \"median_property_value\": 515300.0, \"non_eng_speakers_pct\": 0.252179, \"owner_occupied_housing_units\": 0.56903, \"pop\": 1406299, \"year\": 2015}, {\"display_name\": \"Idaho\", \"income\": 47583.0, \"mean_commute_minutes\": 19.01, \"median_property_value\": 162900.0, \"non_eng_speakers_pct\": 0.10604100000000001, \"owner_occupied_housing_units\": 0.688701, \"pop\": 1616547, \"year\": 2015}, {\"display_name\": \"Montana\", \"income\": 47169.0, \"mean_commute_minutes\": 16.9564, \"median_property_value\": 193500.0, \"non_eng_speakers_pct\": 0.0410397, \"owner_occupied_housing_units\": 0.671878, \"pop\": 1014699, \"year\": 2015}, {\"display_name\": \"New Mexico\", \"income\": 44963.0, \"mean_commute_minutes\": 20.5763, \"median_property_value\": 160300.0, \"non_eng_speakers_pct\": 0.357462, \"owner_occupied_housing_units\": 0.680558, \"pop\": 2084117, \"year\": 2015}, {\"display_name\": \"New York\", \"income\": 59269.0, \"mean_commute_minutes\": 31.0139, \"median_property_value\": 283400.0, \"non_eng_speakers_pct\": 0.303529, \"owner_occupied_housing_units\": 0.536295, \"pop\": 19673174, \"year\": 2015}, {\"display_name\": \"North Dakota\", \"income\": 57181.0, \"mean_commute_minutes\": 16.3162, \"median_property_value\": 153800.0, \"non_eng_speakers_pct\": 0.0559116, \"owner_occupied_housing_units\": 0.6413909999999999, \"pop\": 721640, \"year\": 2015}, {\"display_name\": \"Oregon\", \"income\": 51243.0, \"mean_commute_minutes\": 21.4891, \"median_property_value\": 237300.0, \"non_eng_speakers_pct\": 0.150774, \"owner_occupied_housing_units\": 0.612768, \"pop\": 3939233, \"year\": 2015}, {\"display_name\": \"Iowa\", \"income\": 53183.0, \"mean_commute_minutes\": 18.0287, \"median_property_value\": 129200.0, \"non_eng_speakers_pct\": 0.074433, \"owner_occupied_housing_units\": 0.7148180000000001, \"pop\": 3093526, \"year\": 2015}, {\"display_name\": \"Michigan\", \"income\": 49576.0, \"mean_commute_minutes\": 23.3113, \"median_property_value\": 122400.0, \"non_eng_speakers_pct\": 0.0921985, \"owner_occupied_housing_units\": 0.7104159999999999, \"pop\": 9900571, \"year\": 2015}, {\"display_name\": \"Ohio\", \"income\": 49429.0, \"mean_commute_minutes\": 22.4176, \"median_property_value\": 129900.0, \"non_eng_speakers_pct\": 0.06707130000000001, \"owner_occupied_housing_units\": 0.663116, \"pop\": 11575977, \"year\": 2015}, {\"display_name\": \"Georgia\", \"income\": 49620.0, \"mean_commute_minutes\": 26.0349, \"median_property_value\": 148100.0, \"non_eng_speakers_pct\": 0.136188, \"owner_occupied_housing_units\": 0.633315, \"pop\": 10006693, \"year\": 2015}, {\"display_name\": \"Colorado\", \"income\": 60629.0, \"mean_commute_minutes\": 23.1663, \"median_property_value\": 247800.0, \"non_eng_speakers_pct\": 0.169102, \"owner_occupied_housing_units\": 0.643263, \"pop\": 5278906, \"year\": 2015}, {\"display_name\": \"Florida\", \"income\": 47507.0, \"mean_commute_minutes\": 25.0247, \"median_property_value\": 159000.0, \"non_eng_speakers_pct\": 0.281096, \"owner_occupied_housing_units\": 0.6527310000000001, \"pop\": 19645772, \"year\": 2015}, {\"display_name\": \"Maryland\", \"income\": 74551.0, \"mean_commute_minutes\": 30.9278, \"median_property_value\": 286900.0, \"non_eng_speakers_pct\": 0.17236400000000002, \"owner_occupied_housing_units\": 0.668237, \"pop\": 5930538, \"year\": 2015}, {\"display_name\": \"Vermont\", \"income\": 55176.0, \"mean_commute_minutes\": 20.9854, \"median_property_value\": 217500.0, \"non_eng_speakers_pct\": 0.0541052, \"owner_occupied_housing_units\": 0.709982, \"pop\": 626604, \"year\": 2015}, {\"display_name\": \"Washington\", \"income\": 61062.0, \"mean_commute_minutes\": 24.8334, \"median_property_value\": 259500.0, \"non_eng_speakers_pct\": 0.18903, \"owner_occupied_housing_units\": 0.625, \"pop\": 6985464, \"year\": 2015}, {\"display_name\": \"Arizona\", \"income\": 50255.0, \"mean_commute_minutes\": 23.4306, \"median_property_value\": 167500.0, \"non_eng_speakers_pct\": 0.269232, \"owner_occupied_housing_units\": 0.627582, \"pop\": 6641928, \"year\": 2015}, {\"display_name\": \"Indiana\", \"income\": 49255.0, \"mean_commute_minutes\": 22.5523, \"median_property_value\": 124200.0, \"non_eng_speakers_pct\": 0.08316699999999999, \"owner_occupied_housing_units\": 0.690001, \"pop\": 6568645, \"year\": 2015}, {\"display_name\": \"Kentucky\", \"income\": 43740.0, \"mean_commute_minutes\": 22.2431, \"median_property_value\": 123200.0, \"non_eng_speakers_pct\": 0.0509772, \"owner_occupied_housing_units\": 0.672375, \"pop\": 4397353, \"year\": 2015}, {\"display_name\": \"Louisiana\", \"income\": 45047.0, \"mean_commute_minutes\": 24.4869, \"median_property_value\": 144100.0, \"non_eng_speakers_pct\": 0.0848266, \"owner_occupied_housing_units\": 0.657849, \"pop\": 4625253, \"year\": 2015}, {\"display_name\": \"Maine\", \"income\": 49331.0, \"mean_commute_minutes\": 22.3167, \"median_property_value\": 173800.0, \"non_eng_speakers_pct\": 0.0662787, \"owner_occupied_housing_units\": 0.7121029999999999, \"pop\": 1329100, \"year\": 2015}, {\"display_name\": \"Minnesota\", \"income\": 61492.0, \"mean_commute_minutes\": 21.9351, \"median_property_value\": 186200.0, \"non_eng_speakers_pct\": 0.110393, \"owner_occupied_housing_units\": 0.716612, \"pop\": 5419171, \"year\": 2015}, {\"display_name\": \"Missouri\", \"income\": 48173.0, \"mean_commute_minutes\": 22.1814, \"median_property_value\": 138400.0, \"non_eng_speakers_pct\": 0.060383400000000004, \"owner_occupied_housing_units\": 0.672402, \"pop\": 6045448, \"year\": 2015}, {\"display_name\": \"Nebraska\", \"income\": 52997.0, \"mean_commute_minutes\": 17.4516, \"median_property_value\": 133200.0, \"non_eng_speakers_pct\": 0.10827300000000001, \"owner_occupied_housing_units\": 0.662421, \"pop\": 1869365, \"year\": 2015}, {\"display_name\": \"Rhode Island\", \"income\": 56852.0, \"mean_commute_minutes\": 23.3143, \"median_property_value\": 238000.0, \"non_eng_speakers_pct\": 0.214011, \"owner_occupied_housing_units\": 0.601334, \"pop\": 1053661, \"year\": 2015}, {\"display_name\": \"Tennessee\", \"income\": 45219.0, \"mean_commute_minutes\": 23.6477, \"median_property_value\": 142100.0, \"non_eng_speakers_pct\": 0.068759, \"owner_occupied_housing_units\": 0.667715, \"pop\": 6499615, \"year\": 2015}, {\"display_name\": \"Virginia\", \"income\": 65015.0, \"mean_commute_minutes\": 26.6627, \"median_property_value\": 245000.0, \"non_eng_speakers_pct\": 0.154091, \"owner_occupied_housing_units\": 0.661818, \"pop\": 8256630, \"year\": 2015}, {\"display_name\": \"Wisconsin\", \"income\": 53357.0, \"mean_commute_minutes\": 21.033, \"median_property_value\": 165800.0, \"non_eng_speakers_pct\": 0.0868072, \"owner_occupied_housing_units\": 0.672956, \"pop\": 5742117, \"year\": 2015}, {\"display_name\": \"Wyoming\", \"income\": 58840.0, \"mean_commute_minutes\": 17.5193, \"median_property_value\": 194800.0, \"non_eng_speakers_pct\": 0.07149639999999999, \"owner_occupied_housing_units\": 0.690609, \"pop\": 579679, \"year\": 2015}, {\"display_name\": \"Puerto Rico\", \"income\": 19350.0, \"mean_commute_minutes\": 29.0466, \"median_property_value\": 120500.0, \"non_eng_speakers_pct\": 0.946629, \"owner_occupied_housing_units\": 0.689366, \"pop\": 3583073, \"year\": 2015}, {\"display_name\": \"Oklahoma\", \"income\": 46879.0, \"mean_commute_minutes\": 20.5551, \"median_property_value\": 117900.0, \"non_eng_speakers_pct\": 0.09831519999999999, \"owner_occupied_housing_units\": 0.6605989999999999, \"pop\": 3849733, \"year\": 2015}, {\"display_name\": \"Alaska\", \"income\": 72515.0, \"mean_commute_minutes\": 18.1625, \"median_property_value\": 250000.0, \"non_eng_speakers_pct\": 0.161961, \"owner_occupied_housing_units\": 0.633768, \"pop\": 733375, \"year\": 2015}, {\"display_name\": \"Delaware\", \"income\": 60509.0, \"mean_commute_minutes\": 24.4302, \"median_property_value\": 231500.0, \"non_eng_speakers_pct\": 0.12892699999999999, \"owner_occupied_housing_units\": 0.711725, \"pop\": 926454, \"year\": 2015}, {\"display_name\": \"Nevada\", \"income\": 51847.0, \"mean_commute_minutes\": 23.1651, \"median_property_value\": 173700.0, \"non_eng_speakers_pct\": 0.300371, \"owner_occupied_housing_units\": 0.550593, \"pop\": 2798636, \"year\": 2015}, {\"display_name\": \"Arkansas\", \"income\": 41371.0, \"mean_commute_minutes\": 20.9376, \"median_property_value\": 111400.0, \"non_eng_speakers_pct\": 0.07225269999999999, \"owner_occupied_housing_units\": 0.661068, \"pop\": 2958208, \"year\": 2015}, {\"display_name\": \"Illinois\", \"income\": 57574.0, \"mean_commute_minutes\": 27.1632, \"median_property_value\": 173800.0, \"non_eng_speakers_pct\": 0.226987, \"owner_occupied_housing_units\": 0.663905, \"pop\": 12873761, \"year\": 2015}, {\"display_name\": \"California\", \"income\": 61818.0, \"mean_commute_minutes\": 26.4598, \"median_property_value\": 385500.0, \"non_eng_speakers_pct\": 0.439091, \"owner_occupied_housing_units\": 0.5432680000000001, \"pop\": 38421464, \"year\": 2015}, {\"display_name\": \"District of Columbia\", \"income\": 70848.0, \"mean_commute_minutes\": 28.2534, \"median_property_value\": 475800.0, \"non_eng_speakers_pct\": 0.170193, \"owner_occupied_housing_units\": 0.41241400000000006, \"pop\": 647484, \"year\": 2015}, {\"display_name\": \"Connecticut\", \"income\": 70331.0, \"mean_commute_minutes\": 24.3246, \"median_property_value\": 270500.0, \"non_eng_speakers_pct\": 0.21935300000000002, \"owner_occupied_housing_units\": 0.6699970000000001, \"pop\": 3593222, \"year\": 2015}, {\"display_name\": \"North Carolina\", \"income\": 46868.0, \"mean_commute_minutes\": 22.7539, \"median_property_value\": 154900.0, \"non_eng_speakers_pct\": 0.111748, \"owner_occupied_housing_units\": 0.6513100000000001, \"pop\": 9845333, \"year\": 2015}, {\"display_name\": \"Massachusetts\", \"income\": 68563.0, \"mean_commute_minutes\": 27.4133, \"median_property_value\": 333100.0, \"non_eng_speakers_pct\": 0.22515700000000002, \"owner_occupied_housing_units\": 0.621114, \"pop\": 6705586, \"year\": 2015}, {\"display_name\": \"West Virginia\", \"income\": 41751.0, \"mean_commute_minutes\": 24.8163, \"median_property_value\": 103800.0, \"non_eng_speakers_pct\": 0.0245565, \"owner_occupied_housing_units\": 0.725163, \"pop\": 1851420, \"year\": 2015}, {\"display_name\": \"Utah\", \"income\": 60727.0, \"mean_commute_minutes\": 20.5149, \"median_property_value\": 215900.0, \"non_eng_speakers_pct\": 0.146676, \"owner_occupied_housing_units\": 0.694681, \"pop\": 2903379, \"year\": 2015}, {\"display_name\": \"Alabama\", \"income\": 43623.0, \"mean_commute_minutes\": 23.6796, \"median_property_value\": 125500.0, \"non_eng_speakers_pct\": 0.0519318, \"owner_occupied_housing_units\": 0.686646, \"pop\": 4830620, \"year\": 2015}, {\"display_name\": \"South Dakota\", \"income\": 50957.0, \"mean_commute_minutes\": 15.9562, \"median_property_value\": 140500.0, \"non_eng_speakers_pct\": 0.06491720000000001, \"owner_occupied_housing_units\": 0.680712, \"pop\": 843190, \"year\": 2015}, {\"display_name\": \"Mississippi\", \"income\": 39665.0, \"mean_commute_minutes\": 23.5556, \"median_property_value\": 103100.0, \"non_eng_speakers_pct\": 0.0393309, \"owner_occupied_housing_units\": 0.68392, \"pop\": 2988081, \"year\": 2015}, {\"display_name\": \"New Jersey\", \"income\": 72093.0, \"mean_commute_minutes\": 29.7096, \"median_property_value\": 315900.0, \"non_eng_speakers_pct\": 0.30511900000000003, \"owner_occupied_housing_units\": 0.644652, \"pop\": 8904413, \"year\": 2015}], \"data-59bc9f110706dc46a9aa415722d069df\": [{\"xfit\": 19350.0, \"yfit\": -26076.087783504016}, {\"xfit\": 19460.623246492985, \"yfit\": -25365.875332045805}, {\"xfit\": 19571.24649298597, \"yfit\": -24655.662880587595}, {\"xfit\": 19681.86973947896, \"yfit\": -23945.45042912937}, {\"xfit\": 19792.492985971945, \"yfit\": -23235.23797767116}, {\"xfit\": 19903.11623246493, \"yfit\": -22525.02552621295}, {\"xfit\": 20013.739478957916, \"yfit\": -21814.81307475474}, {\"xfit\": 20124.3627254509, \"yfit\": -21104.60062329653}, {\"xfit\": 20234.985971943886, \"yfit\": -20394.38817183832}, {\"xfit\": 20345.609218436875, \"yfit\": -19684.175720380095}, {\"xfit\": 20456.23246492986, \"yfit\": -18973.963268921885}, {\"xfit\": 20566.855711422846, \"yfit\": -18263.750817463675}, {\"xfit\": 20677.47895791583, \"yfit\": -17553.538366005465}, {\"xfit\": 20788.102204408817, \"yfit\": -16843.325914547255}, {\"xfit\": 20898.725450901802, \"yfit\": -16133.113463089045}, {\"xfit\": 21009.34869739479, \"yfit\": -15422.901011630835}, {\"xfit\": 21119.971943887776, \"yfit\": -14712.688560172624}, {\"xfit\": 21230.59519038076, \"yfit\": -14002.476108714414}, {\"xfit\": 21341.218436873747, \"yfit\": -13292.263657256204}, {\"xfit\": 21451.841683366732, \"yfit\": -12582.051205797994}, {\"xfit\": 21562.46492985972, \"yfit\": -11871.838754339755}, {\"xfit\": 21673.088176352707, \"yfit\": -11161.626302881574}, {\"xfit\": 21783.711422845692, \"yfit\": -10451.413851423364}, {\"xfit\": 21894.334669338677, \"yfit\": -9741.201399965154}, {\"xfit\": 22004.957915831663, \"yfit\": -9030.988948506943}, {\"xfit\": 22115.581162324648, \"yfit\": -8320.776497048733}, {\"xfit\": 22226.204408817634, \"yfit\": -7610.564045590523}, {\"xfit\": 22336.827655310623, \"yfit\": -6900.351594132284}, {\"xfit\": 22447.450901803608, \"yfit\": -6190.139142674074}, {\"xfit\": 22558.074148296593, \"yfit\": -5479.926691215864}, {\"xfit\": 22668.69739478958, \"yfit\": -4769.714239757683}, {\"xfit\": 22779.320641282564, \"yfit\": -4059.5017882994725}, {\"xfit\": 22889.943887775553, \"yfit\": -3349.2893368412333}, {\"xfit\": 23000.56713426854, \"yfit\": -2639.076885383023}, {\"xfit\": 23111.190380761524, \"yfit\": -1928.864433924813}, {\"xfit\": 23221.81362725451, \"yfit\": -1218.651982466603}, {\"xfit\": 23332.436873747494, \"yfit\": -508.4395310083928}, {\"xfit\": 23443.06012024048, \"yfit\": 201.77292044981732}, {\"xfit\": 23553.683366733465, \"yfit\": 911.9853719080274}, {\"xfit\": 23664.306613226454, \"yfit\": 1622.1978233662376}, {\"xfit\": 23774.92985971944, \"yfit\": 2332.4102748244477}, {\"xfit\": 23885.553106212425, \"yfit\": 3042.622726282658}, {\"xfit\": 23996.17635270541, \"yfit\": 3752.835177740868}, {\"xfit\": 24106.7995991984, \"yfit\": 4463.047629199107}, {\"xfit\": 24217.422845691384, \"yfit\": 5173.260080657317}, {\"xfit\": 24328.04609218437, \"yfit\": 5883.472532115527}, {\"xfit\": 24438.669338677355, \"yfit\": 6593.684983573708}, {\"xfit\": 24549.29258517034, \"yfit\": 7303.897435031919}, {\"xfit\": 24659.915831663326, \"yfit\": 8014.109886490129}, {\"xfit\": 24770.53907815631, \"yfit\": 8724.322337948339}, {\"xfit\": 24881.162324649296, \"yfit\": 9434.534789406549}, {\"xfit\": 24991.785571142285, \"yfit\": 10144.747240864788}, {\"xfit\": 25102.40881763527, \"yfit\": 10854.959692322998}, {\"xfit\": 25213.032064128256, \"yfit\": 11565.172143781208}, {\"xfit\": 25323.65531062124, \"yfit\": 12275.384595239419}, {\"xfit\": 25434.27855711423, \"yfit\": 12985.597046697629}, {\"xfit\": 25544.901803607216, \"yfit\": 13695.809498155839}, {\"xfit\": 25655.5250501002, \"yfit\": 14406.021949614049}, {\"xfit\": 25766.148296593186, \"yfit\": 15116.234401072259}, {\"xfit\": 25876.77154308617, \"yfit\": 15826.44685253047}, {\"xfit\": 25987.394789579157, \"yfit\": 16536.65930398868}, {\"xfit\": 26098.018036072142, \"yfit\": 17246.87175544689}, {\"xfit\": 26208.64128256513, \"yfit\": 17957.0842069051}, {\"xfit\": 26319.264529058117, \"yfit\": 18667.29665836331}, {\"xfit\": 26429.887775551102, \"yfit\": 19377.50910982152}, {\"xfit\": 26540.511022044087, \"yfit\": 20087.72156127973}, {\"xfit\": 26651.134268537073, \"yfit\": 20797.93401273794}, {\"xfit\": 26761.75751503006, \"yfit\": 21508.14646419618}, {\"xfit\": 26872.380761523047, \"yfit\": 22218.35891565439}, {\"xfit\": 26983.004008016032, \"yfit\": 22928.5713671126}, {\"xfit\": 27093.627254509018, \"yfit\": 23638.78381857078}, {\"xfit\": 27204.250501002003, \"yfit\": 24348.99627002899}, {\"xfit\": 27314.87374749499, \"yfit\": 25059.2087214872}, {\"xfit\": 27425.496993987974, \"yfit\": 25769.42117294541}, {\"xfit\": 27536.120240480963, \"yfit\": 26479.63362440365}, {\"xfit\": 27646.743486973948, \"yfit\": 27189.84607586186}, {\"xfit\": 27757.366733466934, \"yfit\": 27900.05852732007}, {\"xfit\": 27867.98997995992, \"yfit\": 28610.27097877828}, {\"xfit\": 27978.613226452908, \"yfit\": 29320.48343023649}, {\"xfit\": 28089.236472945893, \"yfit\": 30030.6958816947}, {\"xfit\": 28199.85971943888, \"yfit\": 30740.90833315291}, {\"xfit\": 28310.482965931864, \"yfit\": 31451.12078461112}, {\"xfit\": 28421.10621242485, \"yfit\": 32161.33323606933}, {\"xfit\": 28531.729458917835, \"yfit\": 32871.54568752754}, {\"xfit\": 28642.35270541082, \"yfit\": 33581.75813898575}, {\"xfit\": 28752.975951903805, \"yfit\": 34291.97059044396}, {\"xfit\": 28863.599198396794, \"yfit\": 35002.18304190217}, {\"xfit\": 28974.22244488978, \"yfit\": 35712.39549336038}, {\"xfit\": 29084.845691382765, \"yfit\": 36422.60794481859}, {\"xfit\": 29195.468937875754, \"yfit\": 37132.82039627683}, {\"xfit\": 29306.09218436874, \"yfit\": 37843.03284773504}, {\"xfit\": 29416.715430861725, \"yfit\": 38553.24529919325}, {\"xfit\": 29527.33867735471, \"yfit\": 39263.45775065146}, {\"xfit\": 29637.961923847695, \"yfit\": 39973.67020210967}, {\"xfit\": 29748.58517034068, \"yfit\": 40683.88265356788}, {\"xfit\": 29859.208416833666, \"yfit\": 41394.09510502606}, {\"xfit\": 29969.83166332665, \"yfit\": 42104.30755648427}, {\"xfit\": 30080.454909819637, \"yfit\": 42814.52000794248}, {\"xfit\": 30191.078156312626, \"yfit\": 43524.73245940072}, {\"xfit\": 30301.70140280561, \"yfit\": 44234.94491085893}, {\"xfit\": 30412.324649298596, \"yfit\": 44945.15736231714}, {\"xfit\": 30522.947895791585, \"yfit\": 45655.36981377535}, {\"xfit\": 30633.57114228457, \"yfit\": 46365.58226523356}, {\"xfit\": 30744.194388777556, \"yfit\": 47075.79471669177}, {\"xfit\": 30854.81763527054, \"yfit\": 47786.00716814998}, {\"xfit\": 30965.440881763527, \"yfit\": 48496.21961960819}, {\"xfit\": 31076.064128256512, \"yfit\": 49206.4320710664}, {\"xfit\": 31186.687374749497, \"yfit\": 49916.64452252461}, {\"xfit\": 31297.310621242483, \"yfit\": 50626.85697398282}, {\"xfit\": 31407.933867735468, \"yfit\": 51337.069425441034}, {\"xfit\": 31518.557114228457, \"yfit\": 52047.281876899244}, {\"xfit\": 31629.180360721442, \"yfit\": 52757.494328357454}, {\"xfit\": 31739.803607214428, \"yfit\": 53467.706779815664}, {\"xfit\": 31850.426853707417, \"yfit\": 54177.9192312739}, {\"xfit\": 31961.050100200402, \"yfit\": 54888.13168273211}, {\"xfit\": 32071.673346693387, \"yfit\": 55598.34413419032}, {\"xfit\": 32182.296593186373, \"yfit\": 56308.556585648534}, {\"xfit\": 32292.919839679358, \"yfit\": 57018.769037106744}, {\"xfit\": 32403.543086172343, \"yfit\": 57728.981488564954}, {\"xfit\": 32514.16633266533, \"yfit\": 58439.193940023135}, {\"xfit\": 32624.789579158314, \"yfit\": 59149.406391481345}, {\"xfit\": 32735.412825651303, \"yfit\": 59859.618842939584}, {\"xfit\": 32846.036072144285, \"yfit\": 60569.831294397765}, {\"xfit\": 32956.65931863728, \"yfit\": 61280.043745856034}, {\"xfit\": 33067.28256513026, \"yfit\": 61990.256197314244}, {\"xfit\": 33177.90581162325, \"yfit\": 62700.468648772454}, {\"xfit\": 33288.52905811623, \"yfit\": 63410.681100230635}, {\"xfit\": 33399.15230460922, \"yfit\": 64120.893551688845}, {\"xfit\": 33509.775551102204, \"yfit\": 64831.106003147055}, {\"xfit\": 33620.39879759519, \"yfit\": 65541.31845460527}, {\"xfit\": 33731.022044088175, \"yfit\": 66251.53090606348}, {\"xfit\": 33841.64529058116, \"yfit\": 66961.74335752169}, {\"xfit\": 33952.268537074146, \"yfit\": 67671.9558089799}, {\"xfit\": 34062.89178356713, \"yfit\": 68382.1682604381}, {\"xfit\": 34173.51503006012, \"yfit\": 69092.38071189635}, {\"xfit\": 34284.1382765531, \"yfit\": 69802.59316335453}, {\"xfit\": 34394.761523046094, \"yfit\": 70512.80561481277}, {\"xfit\": 34505.38476953908, \"yfit\": 71223.01806627098}, {\"xfit\": 34616.008016032065, \"yfit\": 71933.23051772919}, {\"xfit\": 34726.63126252505, \"yfit\": 72643.4429691874}, {\"xfit\": 34837.254509018036, \"yfit\": 73353.6554206456}, {\"xfit\": 34947.87775551102, \"yfit\": 74063.86787210382}, {\"xfit\": 35058.501002004006, \"yfit\": 74774.08032356203}, {\"xfit\": 35169.12424849699, \"yfit\": 75484.29277502024}, {\"xfit\": 35279.74749498998, \"yfit\": 76194.50522647842}, {\"xfit\": 35390.37074148297, \"yfit\": 76904.71767793669}, {\"xfit\": 35500.99398797595, \"yfit\": 77614.93012939484}, {\"xfit\": 35611.61723446894, \"yfit\": 78325.1425808531}, {\"xfit\": 35722.240480961926, \"yfit\": 79035.35503231132}, {\"xfit\": 35832.86372745491, \"yfit\": 79745.56748376953}, {\"xfit\": 35943.486973947896, \"yfit\": 80455.7799352277}, {\"xfit\": 36054.11022044088, \"yfit\": 81165.99238668592}, {\"xfit\": 36164.73346693387, \"yfit\": 81876.20483814413}, {\"xfit\": 36275.35671342685, \"yfit\": 82586.41728960234}, {\"xfit\": 36385.97995991984, \"yfit\": 83296.62974106055}, {\"xfit\": 36496.60320641282, \"yfit\": 84006.84219251876}, {\"xfit\": 36607.226452905816, \"yfit\": 84717.05464397703}, {\"xfit\": 36717.849699398794, \"yfit\": 85427.26709543518}, {\"xfit\": 36828.47294589179, \"yfit\": 86137.47954689342}, {\"xfit\": 36939.096192384764, \"yfit\": 86847.6919983516}, {\"xfit\": 37049.71943887776, \"yfit\": 87557.90444980984}, {\"xfit\": 37160.34268537074, \"yfit\": 88268.11690126805}, {\"xfit\": 37270.96593186373, \"yfit\": 88978.32935272626}, {\"xfit\": 37381.58917835671, \"yfit\": 89688.54180418447}, {\"xfit\": 37492.2124248497, \"yfit\": 90398.75425564268}, {\"xfit\": 37602.835671342684, \"yfit\": 91108.96670710089}, {\"xfit\": 37713.45891783567, \"yfit\": 91819.1791585591}, {\"xfit\": 37824.08216432866, \"yfit\": 92529.39161001734}, {\"xfit\": 37934.70541082164, \"yfit\": 93239.60406147549}, {\"xfit\": 38045.32865731463, \"yfit\": 93949.81651293376}, {\"xfit\": 38155.95190380761, \"yfit\": 94660.02896439191}, {\"xfit\": 38266.5751503006, \"yfit\": 95370.24141585018}, {\"xfit\": 38377.19839679359, \"yfit\": 96080.45386730839}, {\"xfit\": 38487.821643286574, \"yfit\": 96790.6663187666}, {\"xfit\": 38598.44488977956, \"yfit\": 97500.87877022481}, {\"xfit\": 38709.068136272545, \"yfit\": 98211.09122168299}, {\"xfit\": 38819.69138276553, \"yfit\": 98921.3036731412}, {\"xfit\": 38930.314629258515, \"yfit\": 99631.51612459941}, {\"xfit\": 39040.93787575151, \"yfit\": 100341.72857605768}, {\"xfit\": 39151.561122244486, \"yfit\": 101051.94102751583}, {\"xfit\": 39262.18436873748, \"yfit\": 101762.1534789741}, {\"xfit\": 39372.80761523046, \"yfit\": 102472.36593043225}, {\"xfit\": 39483.43086172345, \"yfit\": 103182.57838189049}, {\"xfit\": 39594.05410821643, \"yfit\": 103892.79083334867}, {\"xfit\": 39704.67735470942, \"yfit\": 104603.00328480691}, {\"xfit\": 39815.300601202405, \"yfit\": 105313.21573626512}, {\"xfit\": 39925.92384769539, \"yfit\": 106023.42818772333}, {\"xfit\": 40036.547094188376, \"yfit\": 106733.64063918154}, {\"xfit\": 40147.17034068136, \"yfit\": 107443.85309063975}, {\"xfit\": 40257.79358717435, \"yfit\": 108154.06554209796}, {\"xfit\": 40368.41683366733, \"yfit\": 108864.27799355617}, {\"xfit\": 40479.040080160325, \"yfit\": 109574.49044501441}, {\"xfit\": 40589.6633266533, \"yfit\": 110284.70289647259}, {\"xfit\": 40700.286573146295, \"yfit\": 110994.91534793083}, {\"xfit\": 40810.90981963927, \"yfit\": 111705.12779938898}, {\"xfit\": 40921.533066132266, \"yfit\": 112415.34025084725}, {\"xfit\": 41032.15631262525, \"yfit\": 113125.55270230546}, {\"xfit\": 41142.77955911824, \"yfit\": 113835.76515376367}, {\"xfit\": 41253.40280561122, \"yfit\": 114545.97760522188}, {\"xfit\": 41364.02605210421, \"yfit\": 115256.19005668009}, {\"xfit\": 41474.64929859719, \"yfit\": 115966.4025081383}, {\"xfit\": 41585.27254509018, \"yfit\": 116676.61495959651}, {\"xfit\": 41695.89579158317, \"yfit\": 117386.82741105472}, {\"xfit\": 41806.51903807615, \"yfit\": 118097.03986251293}, {\"xfit\": 41917.14228456914, \"yfit\": 118807.25231397114}, {\"xfit\": 42027.76553106212, \"yfit\": 119517.4647654293}, {\"xfit\": 42138.38877755511, \"yfit\": 120227.67721688756}, {\"xfit\": 42249.0120240481, \"yfit\": 120937.88966834577}, {\"xfit\": 42359.63527054108, \"yfit\": 121648.10211980398}, {\"xfit\": 42470.25851703407, \"yfit\": 122358.31457126219}, {\"xfit\": 42580.88176352705, \"yfit\": 123068.5270227204}, {\"xfit\": 42691.50501002004, \"yfit\": 123778.73947417861}, {\"xfit\": 42802.128256513024, \"yfit\": 124488.95192563682}, {\"xfit\": 42912.75150300602, \"yfit\": 125199.16437709509}, {\"xfit\": 43023.374749498995, \"yfit\": 125909.37682855324}, {\"xfit\": 43133.99799599199, \"yfit\": 126619.58928001151}, {\"xfit\": 43244.621242484965, \"yfit\": 127329.80173146966}, {\"xfit\": 43355.24448897796, \"yfit\": 128040.01418292793}, {\"xfit\": 43465.867735470936, \"yfit\": 128750.22663438608}, {\"xfit\": 43576.49098196393, \"yfit\": 129460.4390858443}, {\"xfit\": 43687.114228456914, \"yfit\": 130170.6515373025}, {\"xfit\": 43797.7374749499, \"yfit\": 130880.86398876071}, {\"xfit\": 43908.360721442885, \"yfit\": 131591.07644021892}, {\"xfit\": 44018.98396793587, \"yfit\": 132301.28889167713}, {\"xfit\": 44129.607214428856, \"yfit\": 133011.50134313534}, {\"xfit\": 44240.23046092184, \"yfit\": 133721.71379459355}, {\"xfit\": 44350.85370741483, \"yfit\": 134431.92624605182}, {\"xfit\": 44461.47695390781, \"yfit\": 135142.13869750997}, {\"xfit\": 44572.100200400804, \"yfit\": 135852.35114896824}, {\"xfit\": 44682.72344689378, \"yfit\": 136562.5636004264}, {\"xfit\": 44793.346693386775, \"yfit\": 137272.77605188466}, {\"xfit\": 44903.96993987976, \"yfit\": 137982.98850334287}, {\"xfit\": 45014.593186372746, \"yfit\": 138693.20095480108}, {\"xfit\": 45125.21643286573, \"yfit\": 139403.4134062593}, {\"xfit\": 45235.839679358716, \"yfit\": 140113.6258577175}, {\"xfit\": 45346.4629258517, \"yfit\": 140823.8383091757}, {\"xfit\": 45457.08617234469, \"yfit\": 141534.05076063387}, {\"xfit\": 45567.70941883768, \"yfit\": 142244.26321209213}, {\"xfit\": 45678.33266533066, \"yfit\": 142954.47566355029}, {\"xfit\": 45788.95591182365, \"yfit\": 143664.68811500855}, {\"xfit\": 45899.57915831663, \"yfit\": 144374.9005664667}, {\"xfit\": 46010.20240480962, \"yfit\": 145085.11301792497}, {\"xfit\": 46120.825651302606, \"yfit\": 145795.32546938318}, {\"xfit\": 46231.44889779559, \"yfit\": 146505.5379208414}, {\"xfit\": 46342.07214428858, \"yfit\": 147215.7503722996}, {\"xfit\": 46452.69539078156, \"yfit\": 147925.9628237578}, {\"xfit\": 46563.31863727455, \"yfit\": 148636.17527521602}, {\"xfit\": 46673.94188376753, \"yfit\": 149346.38772667423}, {\"xfit\": 46784.565130260526, \"yfit\": 150056.6001781325}, {\"xfit\": 46895.188376753504, \"yfit\": 150766.81262959065}, {\"xfit\": 47005.811623246496, \"yfit\": 151477.02508104887}, {\"xfit\": 47116.434869739474, \"yfit\": 152187.23753250708}, {\"xfit\": 47227.05811623247, \"yfit\": 152897.44998396529}, {\"xfit\": 47337.681362725445, \"yfit\": 153607.6624354235}, {\"xfit\": 47448.30460921844, \"yfit\": 154317.8748868817}, {\"xfit\": 47558.92785571142, \"yfit\": 155028.08733833992}, {\"xfit\": 47669.55110220441, \"yfit\": 155738.29978979813}, {\"xfit\": 47780.174348697394, \"yfit\": 156448.51224125634}, {\"xfit\": 47890.79759519038, \"yfit\": 157158.72469271455}, {\"xfit\": 48001.42084168337, \"yfit\": 157868.9371441728}, {\"xfit\": 48112.04408817635, \"yfit\": 158579.14959563097}, {\"xfit\": 48222.66733466934, \"yfit\": 159289.36204708923}, {\"xfit\": 48333.29058116232, \"yfit\": 159999.5744985474}, {\"xfit\": 48443.91382765531, \"yfit\": 160709.78695000565}, {\"xfit\": 48554.53707414829, \"yfit\": 161419.9994014638}, {\"xfit\": 48665.160320641284, \"yfit\": 162130.21185292208}, {\"xfit\": 48775.78356713427, \"yfit\": 162840.42430438029}, {\"xfit\": 48886.406813627254, \"yfit\": 163550.63675583844}, {\"xfit\": 48997.03006012024, \"yfit\": 164260.84920729665}, {\"xfit\": 49107.653306613225, \"yfit\": 164971.06165875486}, {\"xfit\": 49218.27655310621, \"yfit\": 165681.27411021307}, {\"xfit\": 49328.899799599196, \"yfit\": 166391.48656167128}, {\"xfit\": 49439.52304609219, \"yfit\": 167101.69901312955}, {\"xfit\": 49550.14629258517, \"yfit\": 167811.9114645877}, {\"xfit\": 49660.76953907816, \"yfit\": 168522.12391604597}, {\"xfit\": 49771.39278557114, \"yfit\": 169232.33636750412}, {\"xfit\": 49882.01603206413, \"yfit\": 169942.5488189624}, {\"xfit\": 49992.639278557115, \"yfit\": 170652.7612704206}, {\"xfit\": 50103.2625250501, \"yfit\": 171362.9737218788}, {\"xfit\": 50213.885771543086, \"yfit\": 172073.18617333702}, {\"xfit\": 50324.50901803607, \"yfit\": 172783.39862479523}, {\"xfit\": 50435.13226452906, \"yfit\": 173493.61107625344}, {\"xfit\": 50545.75551102204, \"yfit\": 174203.82352771165}, {\"xfit\": 50656.378757515035, \"yfit\": 174914.03597916986}, {\"xfit\": 50767.00200400801, \"yfit\": 175624.24843062807}, {\"xfit\": 50877.625250501005, \"yfit\": 176334.46088208628}, {\"xfit\": 50988.24849699398, \"yfit\": 177044.67333354443}, {\"xfit\": 51098.871743486976, \"yfit\": 177754.8857850027}, {\"xfit\": 51209.49498997996, \"yfit\": 178465.0982364609}, {\"xfit\": 51320.11823647295, \"yfit\": 179175.31068791912}, {\"xfit\": 51430.74148296593, \"yfit\": 179885.52313937733}, {\"xfit\": 51541.36472945892, \"yfit\": 180595.73559083554}, {\"xfit\": 51651.9879759519, \"yfit\": 181305.94804229375}, {\"xfit\": 51762.61122244489, \"yfit\": 182016.16049375196}, {\"xfit\": 51873.23446893788, \"yfit\": 182726.37294521023}, {\"xfit\": 51983.85771543086, \"yfit\": 183436.58539666838}, {\"xfit\": 52094.48096192385, \"yfit\": 184146.79784812665}, {\"xfit\": 52205.10420841684, \"yfit\": 184857.01029958486}, {\"xfit\": 52315.72745490982, \"yfit\": 185567.222751043}, {\"xfit\": 52426.35070140281, \"yfit\": 186277.43520250122}, {\"xfit\": 52536.97394789579, \"yfit\": 186987.64765395943}, {\"xfit\": 52647.59719438878, \"yfit\": 187697.86010541764}, {\"xfit\": 52758.22044088176, \"yfit\": 188408.07255687585}, {\"xfit\": 52868.84368737475, \"yfit\": 189118.28500833406}, {\"xfit\": 52979.466933867734, \"yfit\": 189828.49745979227}, {\"xfit\": 53090.09018036072, \"yfit\": 190538.70991125048}, {\"xfit\": 53200.713426853705, \"yfit\": 191248.9223627087}, {\"xfit\": 53311.33667334669, \"yfit\": 191959.1348141669}, {\"xfit\": 53421.959919839675, \"yfit\": 192669.3472656251}, {\"xfit\": 53532.58316633267, \"yfit\": 193379.55971708338}, {\"xfit\": 53643.20641282565, \"yfit\": 194089.7721685416}, {\"xfit\": 53753.82965931864, \"yfit\": 194799.9846199998}, {\"xfit\": 53864.452905811624, \"yfit\": 195510.197071458}, {\"xfit\": 53975.07615230461, \"yfit\": 196220.40952291622}, {\"xfit\": 54085.699398797595, \"yfit\": 196930.62197437443}, {\"xfit\": 54196.32264529058, \"yfit\": 197640.83442583264}, {\"xfit\": 54306.945891783565, \"yfit\": 198351.0468772908}, {\"xfit\": 54417.56913827655, \"yfit\": 199061.259328749}, {\"xfit\": 54528.192384769536, \"yfit\": 199771.4717802072}, {\"xfit\": 54638.81563126252, \"yfit\": 200481.68423166542}, {\"xfit\": 54749.438877755514, \"yfit\": 201191.8966831237}, {\"xfit\": 54860.0621242485, \"yfit\": 201902.1091345819}, {\"xfit\": 54970.685370741485, \"yfit\": 202612.3215860401}, {\"xfit\": 55081.30861723447, \"yfit\": 203322.53403749832}, {\"xfit\": 55191.931863727455, \"yfit\": 204032.74648895653}, {\"xfit\": 55302.55511022044, \"yfit\": 204742.95894041474}, {\"xfit\": 55413.178356713426, \"yfit\": 205453.17139187295}, {\"xfit\": 55523.80160320641, \"yfit\": 206163.38384333116}, {\"xfit\": 55634.4248496994, \"yfit\": 206873.59629478937}, {\"xfit\": 55745.04809619238, \"yfit\": 207583.80874624758}, {\"xfit\": 55855.67134268537, \"yfit\": 208294.0211977058}, {\"xfit\": 55966.29458917835, \"yfit\": 209004.233649164}, {\"xfit\": 56076.917835671346, \"yfit\": 209714.4461006222}, {\"xfit\": 56187.54108216433, \"yfit\": 210424.65855208042}, {\"xfit\": 56298.164328657316, \"yfit\": 211134.87100353863}, {\"xfit\": 56408.7875751503, \"yfit\": 211845.08345499684}, {\"xfit\": 56519.41082164329, \"yfit\": 212555.29590645505}, {\"xfit\": 56630.03406813627, \"yfit\": 213265.50835791326}, {\"xfit\": 56740.65731462926, \"yfit\": 213975.72080937147}, {\"xfit\": 56851.28056112224, \"yfit\": 214685.93326082968}, {\"xfit\": 56961.90380761523, \"yfit\": 215396.1457122879}, {\"xfit\": 57072.52705410821, \"yfit\": 216106.3581637461}, {\"xfit\": 57183.1503006012, \"yfit\": 216816.5706152043}, {\"xfit\": 57293.773547094184, \"yfit\": 217526.78306666252}, {\"xfit\": 57404.39679358718, \"yfit\": 218236.9955181208}, {\"xfit\": 57515.02004008016, \"yfit\": 218947.207969579}, {\"xfit\": 57625.64328657315, \"yfit\": 219657.4204210372}, {\"xfit\": 57736.26653306613, \"yfit\": 220367.63287249536}, {\"xfit\": 57846.88977955912, \"yfit\": 221077.84532395357}, {\"xfit\": 57957.513026052104, \"yfit\": 221788.05777541178}, {\"xfit\": 58068.13627254509, \"yfit\": 222498.27022687}, {\"xfit\": 58178.759519038074, \"yfit\": 223208.4826783282}, {\"xfit\": 58289.38276553106, \"yfit\": 223918.6951297864}, {\"xfit\": 58400.006012024045, \"yfit\": 224628.90758124462}, {\"xfit\": 58510.62925851703, \"yfit\": 225339.12003270283}, {\"xfit\": 58621.25250501002, \"yfit\": 226049.3324841611}, {\"xfit\": 58731.87575150301, \"yfit\": 226759.5449356193}, {\"xfit\": 58842.498997995994, \"yfit\": 227469.75738707752}, {\"xfit\": 58953.12224448898, \"yfit\": 228179.96983853573}, {\"xfit\": 59063.745490981964, \"yfit\": 228890.18228999394}, {\"xfit\": 59174.36873747495, \"yfit\": 229600.39474145215}, {\"xfit\": 59284.991983967935, \"yfit\": 230310.60719291036}, {\"xfit\": 59395.61523046092, \"yfit\": 231020.81964436857}, {\"xfit\": 59506.238476953906, \"yfit\": 231731.03209582678}, {\"xfit\": 59616.86172344689, \"yfit\": 232441.244547285}, {\"xfit\": 59727.48496993988, \"yfit\": 233151.45699874315}, {\"xfit\": 59838.10821643286, \"yfit\": 233861.66945020136}, {\"xfit\": 59948.731462925854, \"yfit\": 234571.88190165962}, {\"xfit\": 60059.35470941884, \"yfit\": 235282.09435311783}, {\"xfit\": 60169.977955911825, \"yfit\": 235992.30680457604}, {\"xfit\": 60280.60120240481, \"yfit\": 236702.51925603425}, {\"xfit\": 60391.224448897796, \"yfit\": 237412.73170749246}, {\"xfit\": 60501.84769539078, \"yfit\": 238122.94415895068}, {\"xfit\": 60612.47094188377, \"yfit\": 238833.15661040889}, {\"xfit\": 60723.09418837675, \"yfit\": 239543.3690618671}, {\"xfit\": 60833.71743486974, \"yfit\": 240253.5815133253}, {\"xfit\": 60944.34068136272, \"yfit\": 240963.79396478352}, {\"xfit\": 61054.96392785571, \"yfit\": 241674.00641624173}, {\"xfit\": 61165.58717434869, \"yfit\": 242384.21886769994}, {\"xfit\": 61276.210420841686, \"yfit\": 243094.43131915815}, {\"xfit\": 61386.83366733467, \"yfit\": 243804.64377061636}, {\"xfit\": 61497.45691382766, \"yfit\": 244514.85622207457}, {\"xfit\": 61608.08016032064, \"yfit\": 245225.06867353278}, {\"xfit\": 61718.70340681363, \"yfit\": 245935.281124991}, {\"xfit\": 61829.32665330661, \"yfit\": 246645.4935764492}, {\"xfit\": 61939.9498997996, \"yfit\": 247355.7060279074}, {\"xfit\": 62050.57314629258, \"yfit\": 248065.91847936562}, {\"xfit\": 62161.19639278557, \"yfit\": 248776.13093082383}, {\"xfit\": 62271.819639278554, \"yfit\": 249486.34338228204}, {\"xfit\": 62382.44288577154, \"yfit\": 250196.55583374025}, {\"xfit\": 62493.06613226453, \"yfit\": 250906.76828519852}, {\"xfit\": 62603.68937875752, \"yfit\": 251616.98073665673}, {\"xfit\": 62714.3126252505, \"yfit\": 252327.19318811494}, {\"xfit\": 62824.93587174349, \"yfit\": 253037.40563957315}, {\"xfit\": 62935.55911823647, \"yfit\": 253747.61809103136}, {\"xfit\": 63046.18236472946, \"yfit\": 254457.83054248957}, {\"xfit\": 63156.805611222444, \"yfit\": 255168.04299394772}, {\"xfit\": 63267.42885771543, \"yfit\": 255878.25544540593}, {\"xfit\": 63378.052104208415, \"yfit\": 256588.46789686414}, {\"xfit\": 63488.6753507014, \"yfit\": 257298.68034832235}, {\"xfit\": 63599.298597194385, \"yfit\": 258008.89279978056}, {\"xfit\": 63709.92184368737, \"yfit\": 258719.10525123877}, {\"xfit\": 63820.54509018036, \"yfit\": 259429.31770269704}, {\"xfit\": 63931.16833667335, \"yfit\": 260139.53015415525}, {\"xfit\": 64041.791583166334, \"yfit\": 260849.74260561346}, {\"xfit\": 64152.41482965932, \"yfit\": 261559.95505707167}, {\"xfit\": 64263.038076152305, \"yfit\": 262270.16750852985}, {\"xfit\": 64373.66132264529, \"yfit\": 262980.37995998806}, {\"xfit\": 64484.284569138275, \"yfit\": 263690.59241144627}, {\"xfit\": 64594.90781563126, \"yfit\": 264400.8048629045}, {\"xfit\": 64705.531062124246, \"yfit\": 265111.0173143627}, {\"xfit\": 64816.15430861723, \"yfit\": 265821.2297658209}, {\"xfit\": 64926.77755511022, \"yfit\": 266531.4422172791}, {\"xfit\": 65037.4008016032, \"yfit\": 267241.6546687373}, {\"xfit\": 65148.024048096195, \"yfit\": 267951.86712019553}, {\"xfit\": 65258.64729458918, \"yfit\": 268662.07957165374}, {\"xfit\": 65369.270541082165, \"yfit\": 269372.29202311195}, {\"xfit\": 65479.89378757515, \"yfit\": 270082.50447457016}, {\"xfit\": 65590.51703406814, \"yfit\": 270792.71692602837}, {\"xfit\": 65701.14028056111, \"yfit\": 271502.9293774866}, {\"xfit\": 65811.7635270541, \"yfit\": 272213.1418289448}, {\"xfit\": 65922.3867735471, \"yfit\": 272923.3542804031}, {\"xfit\": 66033.01002004008, \"yfit\": 273633.5667318612}, {\"xfit\": 66143.63326653306, \"yfit\": 274343.7791833194}, {\"xfit\": 66254.25651302605, \"yfit\": 275053.99163477763}, {\"xfit\": 66364.87975951904, \"yfit\": 275764.20408623596}, {\"xfit\": 66475.50300601203, \"yfit\": 276474.41653769417}, {\"xfit\": 66586.12625250501, \"yfit\": 277184.6289891524}, {\"xfit\": 66696.74949899799, \"yfit\": 277894.8414406105}, {\"xfit\": 66807.37274549098, \"yfit\": 278605.0538920687}, {\"xfit\": 66917.99599198397, \"yfit\": 279315.266343527}, {\"xfit\": 67028.61923847695, \"yfit\": 280025.4787949851}, {\"xfit\": 67139.24248496993, \"yfit\": 280735.6912464433}, {\"xfit\": 67249.86573146292, \"yfit\": 281445.9036979015}, {\"xfit\": 67360.48897795592, \"yfit\": 282156.11614935985}, {\"xfit\": 67471.1122244489, \"yfit\": 282866.32860081794}, {\"xfit\": 67581.73547094187, \"yfit\": 283576.54105227615}, {\"xfit\": 67692.35871743486, \"yfit\": 284286.75350373436}, {\"xfit\": 67802.98196392786, \"yfit\": 284996.9659551927}, {\"xfit\": 67913.60521042085, \"yfit\": 285707.1784066509}, {\"xfit\": 68024.22845691383, \"yfit\": 286417.3908581091}, {\"xfit\": 68134.8517034068, \"yfit\": 287127.6033095672}, {\"xfit\": 68245.4749498998, \"yfit\": 287837.81576102553}, {\"xfit\": 68356.09819639279, \"yfit\": 288548.02821248374}, {\"xfit\": 68466.72144288577, \"yfit\": 289258.24066394195}, {\"xfit\": 68577.34468937875, \"yfit\": 289968.45311540004}, {\"xfit\": 68687.96793587174, \"yfit\": 290678.66556685825}, {\"xfit\": 68798.59118236473, \"yfit\": 291388.8780183166}, {\"xfit\": 68909.21442885771, \"yfit\": 292099.0904697747}, {\"xfit\": 69019.8376753507, \"yfit\": 292809.302921233}, {\"xfit\": 69130.46092184368, \"yfit\": 293519.5153726911}, {\"xfit\": 69241.08416833667, \"yfit\": 294229.7278241494}, {\"xfit\": 69351.70741482967, \"yfit\": 294939.94027560763}, {\"xfit\": 69462.33066132265, \"yfit\": 295650.15272706584}, {\"xfit\": 69572.95390781562, \"yfit\": 296360.36517852393}, {\"xfit\": 69683.57715430862, \"yfit\": 297070.57762998226}, {\"xfit\": 69794.20040080161, \"yfit\": 297780.7900814405}, {\"xfit\": 69904.82364729459, \"yfit\": 298491.0025328987}, {\"xfit\": 70015.44689378756, \"yfit\": 299201.2149843568}, {\"xfit\": 70126.07014028056, \"yfit\": 299911.4274358151}, {\"xfit\": 70236.69338677355, \"yfit\": 300621.6398872733}, {\"xfit\": 70347.31663326654, \"yfit\": 301331.8523387315}, {\"xfit\": 70457.93987975952, \"yfit\": 302042.06479018973}, {\"xfit\": 70568.5631262525, \"yfit\": 302752.2772416478}, {\"xfit\": 70679.18637274549, \"yfit\": 303462.48969310615}, {\"xfit\": 70789.80961923848, \"yfit\": 304172.70214456436}, {\"xfit\": 70900.43286573146, \"yfit\": 304882.9145960226}, {\"xfit\": 71011.05611222444, \"yfit\": 305593.12704748067}, {\"xfit\": 71121.67935871743, \"yfit\": 306303.339498939}, {\"xfit\": 71232.30260521043, \"yfit\": 307013.5519503972}, {\"xfit\": 71342.9258517034, \"yfit\": 307723.7644018554}, {\"xfit\": 71453.54909819638, \"yfit\": 308433.9768533135}, {\"xfit\": 71564.17234468937, \"yfit\": 309144.18930477183}, {\"xfit\": 71674.79559118237, \"yfit\": 309854.40175623004}, {\"xfit\": 71785.41883767536, \"yfit\": 310564.61420768825}, {\"xfit\": 71896.04208416834, \"yfit\": 311274.82665914646}, {\"xfit\": 72006.66533066132, \"yfit\": 311985.0391106047}, {\"xfit\": 72117.28857715431, \"yfit\": 312695.2515620629}, {\"xfit\": 72227.9118236473, \"yfit\": 313405.4640135211}, {\"xfit\": 72338.53507014028, \"yfit\": 314115.6764649793}, {\"xfit\": 72449.15831663326, \"yfit\": 314825.8889164375}, {\"xfit\": 72559.78156312625, \"yfit\": 315536.1013678957}, {\"xfit\": 72670.40480961924, \"yfit\": 316246.31381935393}, {\"xfit\": 72781.02805611223, \"yfit\": 316956.52627081226}, {\"xfit\": 72891.65130260521, \"yfit\": 317666.73872227035}, {\"xfit\": 73002.27454909819, \"yfit\": 318376.95117372856}, {\"xfit\": 73112.89779559118, \"yfit\": 319087.1636251868}, {\"xfit\": 73223.52104208418, \"yfit\": 319797.3760766451}, {\"xfit\": 73334.14428857715, \"yfit\": 320507.5885281032}, {\"xfit\": 73444.76753507013, \"yfit\": 321217.8009795614}, {\"xfit\": 73555.39078156312, \"yfit\": 321928.0134310196}, {\"xfit\": 73666.01402805612, \"yfit\": 322638.2258824778}, {\"xfit\": 73776.6372745491, \"yfit\": 323348.43833393604}, {\"xfit\": 73887.26052104207, \"yfit\": 324058.65078539425}, {\"xfit\": 73997.88376753507, \"yfit\": 324768.86323685246}, {\"xfit\": 74108.50701402806, \"yfit\": 325479.07568831067}, {\"xfit\": 74219.13026052105, \"yfit\": 326189.288139769}, {\"xfit\": 74329.75350701403, \"yfit\": 326899.5005912271}, {\"xfit\": 74440.37675350701, \"yfit\": 327609.7130426853}, {\"xfit\": 74551.0, \"yfit\": 328319.9254941435}]}};\n",
       "var opt = {};\n",
       "var type = \"vega-lite\";\n",
       "var id = \"b690053a-9bec-4e8f-b796-b2b747f50b8f\";\n",
       "\n",
       "var output_area = this;\n",
       "\n",
       "require([\"nbextensions/jupyter-vega/index\"], function(vega) {\n",
       "  var target = document.createElement(\"div\");\n",
       "  target.id = id;\n",
       "  target.className = \"vega-embed\";\n",
       "\n",
       "  var style = document.createElement(\"style\");\n",
       "  style.textContent = [\n",
       "    \".vega-embed .error p {\",\n",
       "    \"  color: firebrick;\",\n",
       "    \"  font-size: 14px;\",\n",
       "    \"}\",\n",
       "  ].join(\"\\\\n\");\n",
       "\n",
       "  // element is a jQuery wrapped DOM element inside the output area\n",
       "  // see http://ipython.readthedocs.io/en/stable/api/generated/\\\n",
       "  // IPython.display.html#IPython.display.Javascript.__init__\n",
       "  element[0].appendChild(target);\n",
       "  element[0].appendChild(style);\n",
       "\n",
       "  vega.render(\"#\" + id, spec, type, opt, output_area);\n",
       "}, function (err) {\n",
       "  if (err.requireType !== \"scripterror\") {\n",
       "    throw(err);\n",
       "  }\n",
       "});\n"
      ],
      "text/plain": [
       "<vega.vegalite.VegaLite at 0x7f42dc6e10b8>"
      ]
     },
     "metadata": {
      "jupyter-vega": "#b690053a-9bec-4e8f-b796-b2b747f50b8f"
     },
     "output_type": "display_data"
    },
    {
     "data": {
      "text/plain": []
     },
     "execution_count": 11,
     "metadata": {},
     "output_type": "execute_result"
    },
    {
     "data": {
      "image/png": "[encoded data removed]"
     },
     "metadata": {
      "jupyter-vega": "#b690053a-9bec-4e8f-b796-b2b747f50b8f"
     },
     "output_type": "display_data"
    }
   ],
   "source": [
    "lm_fit = pd.DataFrame({'xfit': np.linspace(prop_data['income'].min(), prop_data['income'].max(), 500)})\n",
    "lm_fit['yfit'] = np.poly1d(np.polyfit(prop_data['income'], prop_data['median_property_value'], 1))(lm_fit['xfit'])\n",
    "points = alt.Chart(prop_data).mark_point().encode(\n",
    "    x=alt.X('income', axis=alt.Axis(format='$f',title='Median household income (USD)')),\n",
    "    y=alt.Y('median_property_value', axis=alt.Axis(format='$', title='Median property value (USD)')))\n",
    "lm_line = alt.Chart(lm_fit).mark_line().encode(x='xfit:Q', y='yfit:Q')\n",
    "points + lm_line"
   ]
  },
  {
   "cell_type": "markdown",
   "metadata": {
    "slideshow": {
     "slide_type": "fragment"
    }
   },
   "source": [
    "$\\hat{Y} = \\beta_{0} + \\hat{\\beta_{1}} X_{1} + \\varepsilon$"
   ]
  },
  {
   "cell_type": "markdown",
   "metadata": {
    "slideshow": {
     "slide_type": "slide"
    }
   },
   "source": [
    "## RISE gotchas"
   ]
  },
  {
   "cell_type": "markdown",
   "metadata": {
    "slideshow": {
     "slide_type": "fragment"
    }
   },
   "source": [
    "- Limited formatting unless you want to take a deep dive into CSS"
   ]
  },
  {
   "cell_type": "markdown",
   "metadata": {
    "slideshow": {
     "slide_type": "fragment"
    }
   },
   "source": [
    "- Code output formatting sometimes is not what you expect (e.g., Pandas data frames)"
   ]
  },
  {
   "cell_type": "markdown",
   "metadata": {
    "slideshow": {
     "slide_type": "fragment"
    }
   },
   "source": [
    "- **Need Jupyter to edit slides and run the slides...**"
   ]
  },
  {
   "cell_type": "markdown",
   "metadata": {
    "slideshow": {
     "slide_type": "slide"
    }
   },
   "source": [
    "## [(my)Binder](https://mybinder.org/)\n",
    "\n",
    "- Tool to make custom compute environments to share interactive code with others (e.g., Jupyter RISE slides).\n",
    "\n",
    "- Binder is currently housed as a member of Project Jupyter\n",
    "\n",
    "<img src=\"https://mybinder.readthedocs.io/en/latest/_static/logo.png\" align=\"left\" width=\"200\">"
   ]
  },
  {
   "cell_type": "markdown",
   "metadata": {
    "slideshow": {
     "slide_type": "slide"
    }
   },
   "source": [
    "## Demo, then the details!\n",
    "\n",
    "Let's add Binder functionality to this repo: https://github.com/ttimbers/jupyter-rise-binder-demo\n",
    "\n",
    "We can do this here: https://mybinder.org/"
   ]
  },
  {
   "cell_type": "markdown",
   "metadata": {
    "slideshow": {
     "slide_type": "slide"
    }
   },
   "source": [
    "## Some details you might now be interested in!\n",
    "\n",
    "Binder sits on top of these 3 technologies:\n",
    "- [JupyterHub](https://z2jh.jupyter.org/), which manages cloud infrastructure for user instances\n",
    "- [repo2docker](https://repo2docker.readthedocs.io/), which builds Docker images from GitHub repositories\n",
    "- [BinderHub](https://binderhub.readthedocs.io/), which orchestrates the above two projects and provides the Binder interface."
   ]
  },
  {
   "cell_type": "markdown",
   "metadata": {
    "slideshow": {
     "slide_type": "slide"
    }
   },
   "source": [
    "## Some details you might now be interested in!\n",
    "\n",
    "- You can use both RISE and Binder with other languages! R, for example!\n",
    "- Some examples:\n",
    "    - [Jupyer + R notebook demo repo](https://github.com/UBC-DSCI/worksheets)\n",
    "    - [holepunch R package](https://github.com/karthik/holepunch) - lets you create Binder environments with RStudio server"
   ]
  },
  {
   "cell_type": "markdown",
   "metadata": {
    "slideshow": {
     "slide_type": "slide"
    }
   },
   "source": [
    "## Teach Data Science as you do Data Science\n",
    "\n",
    "- Use authentic Data Science tools\n",
    "\n",
    "- Let the students run code and experiment (without barriers)\n",
    "\n",
    "- Promote reproducibility by using and teaching with reproducible tools"
   ]
  },
  {
   "cell_type": "markdown",
   "metadata": {
    "slideshow": {
     "slide_type": "slide"
    }
   },
   "source": [
    "## Thanks!"
   ]
  }
 ],
 "metadata": {
  "celltoolbar": "Slideshow",
  "kernelspec": {
   "display_name": "Python 3",
   "language": "python",
   "name": "python3"
  },
  "language_info": {
   "codemirror_mode": {
    "name": "ipython",
    "version": 3
   },
   "file_extension": ".py",
   "mimetype": "text/x-python",
   "name": "python",
   "nbconvert_exporter": "python",
   "pygments_lexer": "ipython3",
   "version": "3.7.3"
  }
 },
 "nbformat": 4,
 "nbformat_minor": 2
}
